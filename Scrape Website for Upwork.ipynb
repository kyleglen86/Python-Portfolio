{
 "cells": [
  {
   "cell_type": "code",
   "execution_count": 41,
   "id": "68a08505-157a-4d7e-9abe-2d62e5519c0c",
   "metadata": {},
   "outputs": [],
   "source": [
    "import requests\n",
    "from bs4 import BeautifulSoup"
   ]
  },
  {
   "cell_type": "code",
   "execution_count": 42,
   "id": "70261e9e-d12b-4efa-ac06-53d6bee3566d",
   "metadata": {},
   "outputs": [],
   "source": [
    "def get_clinic_name(clinic_id):\n",
    "    url = f'https://{clinic_id}.portal.athenahealth.com/'\n",
    "    response = requests.get(url)\n",
    "    html = response.text\n",
    "    soup = BeautifulSoup(html, 'html.parser')\n",
    "    clinic_name = soup.find_all('h1')[-1].text.strip()\n",
    "    return clinic_name"
   ]
  },
  {
   "cell_type": "code",
   "execution_count": 43,
   "id": "619e60ac-d85b-46b7-88ff-c87dcd3a7f11",
   "metadata": {},
   "outputs": [],
   "source": [
    "start = 12690\n",
    "end = 12711"
   ]
  },
  {
   "cell_type": "code",
   "execution_count": 58,
   "id": "ae8cd25c-0bc7-4acf-9447-82c5cd452227",
   "metadata": {},
   "outputs": [
    {
     "name": "stdout",
     "output_type": "stream",
     "text": [
      "12690\n",
      "12691\n",
      "12692\n",
      "12693\n",
      "12694\n",
      "12695\n",
      "12696\n",
      "12697\n",
      "12698\n",
      "12699\n",
      "12700\n",
      "12701\n",
      "12702\n",
      "12703\n",
      "12704\n",
      "12705\n",
      "12706\n",
      "12707\n",
      "12708\n",
      "12709\n",
      "12710\n"
     ]
    }
   ],
   "source": [
    "master_list = []\n",
    "\n",
    "for clinic_id in range(start, end):\n",
    "    data_dict = {}\n",
    "    data_dict['clinic_id'] = clinic_id\n",
    "    data_dict['clinic_name'] = get_clinic_name(clinic_id)\n",
    "    if data_dict['clinic_name'] != \"Payment Confirmation\" and data_dict['clinic_name'] != \"Sorry, we can't find that practice. Make sure you typed the right address.\" and data_dict['clinic_name'] != \" \":\n",
    "        master_list.append(data_dict)\n",
    "    print(clinic_id)"
   ]
  },
  {
   "cell_type": "code",
   "execution_count": 59,
   "id": "3a5ddfb7-ed97-42d3-8429-d06fb1fe1a5a",
   "metadata": {},
   "outputs": [],
   "source": [
    "import pandas as pd"
   ]
  },
  {
   "cell_type": "code",
   "execution_count": 62,
   "id": "7732b33b-b51a-4fe7-8410-816abe269cb0",
   "metadata": {},
   "outputs": [
    {
     "data": {
      "text/html": [
       "<div>\n",
       "<style scoped>\n",
       "    .dataframe tbody tr th:only-of-type {\n",
       "        vertical-align: middle;\n",
       "    }\n",
       "\n",
       "    .dataframe tbody tr th {\n",
       "        vertical-align: top;\n",
       "    }\n",
       "\n",
       "    .dataframe thead th {\n",
       "        text-align: right;\n",
       "    }\n",
       "</style>\n",
       "<table border=\"1\" class=\"dataframe\">\n",
       "  <thead>\n",
       "    <tr style=\"text-align: right;\">\n",
       "      <th></th>\n",
       "      <th>clinic_id</th>\n",
       "      <th>clinic_name</th>\n",
       "    </tr>\n",
       "  </thead>\n",
       "  <tbody>\n",
       "    <tr>\n",
       "      <th>0</th>\n",
       "      <td>12691</td>\n",
       "      <td>Ergomedica</td>\n",
       "    </tr>\n",
       "    <tr>\n",
       "      <th>1</th>\n",
       "      <td>12693</td>\n",
       "      <td>Altamonte Family Practice</td>\n",
       "    </tr>\n",
       "    <tr>\n",
       "      <th>2</th>\n",
       "      <td>12694</td>\n",
       "      <td>Open Health Care Clinic</td>\n",
       "    </tr>\n",
       "    <tr>\n",
       "      <th>3</th>\n",
       "      <td>12695</td>\n",
       "      <td>Dr. Richard Handelsman</td>\n",
       "    </tr>\n",
       "    <tr>\n",
       "      <th>4</th>\n",
       "      <td>12696</td>\n",
       "      <td>Women's CenterforIntegrative Health</td>\n",
       "    </tr>\n",
       "    <tr>\n",
       "      <th>5</th>\n",
       "      <td>12697</td>\n",
       "      <td>Eastern Urological Associates</td>\n",
       "    </tr>\n",
       "    <tr>\n",
       "      <th>6</th>\n",
       "      <td>12702</td>\n",
       "      <td>Chand Rohatgi MD</td>\n",
       "    </tr>\n",
       "    <tr>\n",
       "      <th>7</th>\n",
       "      <td>12703</td>\n",
       "      <td></td>\n",
       "    </tr>\n",
       "    <tr>\n",
       "      <th>8</th>\n",
       "      <td>12704</td>\n",
       "      <td>Volunteer Healthcare Clinic</td>\n",
       "    </tr>\n",
       "    <tr>\n",
       "      <th>9</th>\n",
       "      <td>12705</td>\n",
       "      <td>Christ Clinic</td>\n",
       "    </tr>\n",
       "    <tr>\n",
       "      <th>10</th>\n",
       "      <td>12706</td>\n",
       "      <td>Olga Joukovski, MD, PA</td>\n",
       "    </tr>\n",
       "    <tr>\n",
       "      <th>11</th>\n",
       "      <td>12707</td>\n",
       "      <td>Restore Health Clinic</td>\n",
       "    </tr>\n",
       "    <tr>\n",
       "      <th>12</th>\n",
       "      <td>12708</td>\n",
       "      <td>STUART L. SILVERMAN, M.D., A MEDICAL CORPORATION</td>\n",
       "    </tr>\n",
       "    <tr>\n",
       "      <th>13</th>\n",
       "      <td>12709</td>\n",
       "      <td>George E. Weems Clinics</td>\n",
       "    </tr>\n",
       "  </tbody>\n",
       "</table>\n",
       "</div>"
      ],
      "text/plain": [
       "    clinic_id                                       clinic_name\n",
       "0       12691                                        Ergomedica\n",
       "1       12693                         Altamonte Family Practice\n",
       "2       12694                           Open Health Care Clinic\n",
       "3       12695                            Dr. Richard Handelsman\n",
       "4       12696               Women's CenterforIntegrative Health\n",
       "5       12697                     Eastern Urological Associates\n",
       "6       12702                                  Chand Rohatgi MD\n",
       "7       12703                                                  \n",
       "8       12704                       Volunteer Healthcare Clinic\n",
       "9       12705                                     Christ Clinic\n",
       "10      12706                            Olga Joukovski, MD, PA\n",
       "11      12707                             Restore Health Clinic\n",
       "12      12708  STUART L. SILVERMAN, M.D., A MEDICAL CORPORATION\n",
       "13      12709                           George E. Weems Clinics"
      ]
     },
     "execution_count": 62,
     "metadata": {},
     "output_type": "execute_result"
    }
   ],
   "source": [
    "df = pd.DataFrame(master_list)\n",
    "df"
   ]
  },
  {
   "cell_type": "code",
   "execution_count": 61,
   "id": "b7f9763c-eaa0-4dd3-86d4-18c88196f508",
   "metadata": {},
   "outputs": [],
   "source": [
    "df.to_csv(r'C:\\Users\\kyleg\\OneDrive\\Desktop\\Data Work\\Master_list.csv', index = False)"
   ]
  },
  {
   "cell_type": "code",
   "execution_count": null,
   "id": "fe7f158c-6025-43a7-9001-3d2e6f500317",
   "metadata": {},
   "outputs": [],
   "source": []
  }
 ],
 "metadata": {
  "kernelspec": {
   "display_name": "Python 3 (ipykernel)",
   "language": "python",
   "name": "python3"
  },
  "language_info": {
   "codemirror_mode": {
    "name": "ipython",
    "version": 3
   },
   "file_extension": ".py",
   "mimetype": "text/x-python",
   "name": "python",
   "nbconvert_exporter": "python",
   "pygments_lexer": "ipython3",
   "version": "3.10.9"
  }
 },
 "nbformat": 4,
 "nbformat_minor": 5
}
